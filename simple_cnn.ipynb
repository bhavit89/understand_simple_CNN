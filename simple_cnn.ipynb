{
 "cells": [
  {
   "cell_type": "code",
   "execution_count": 33,
   "metadata": {},
   "outputs": [],
   "source": [
    "import numpy  as  np \n",
    "import torch \n",
    "import torch.nn as nn\n",
    "import torch.nn.functional as F"
   ]
  },
  {
   "cell_type": "code",
   "execution_count": 38,
   "metadata": {},
   "outputs": [],
   "source": [
    "def fprehook(self, inputs):\n",
    "    print(f\"layer name: {self}\")\n",
    "    print(f\"input shape: {inputs[0].shape}\")"
   ]
  },
  {
   "cell_type": "code",
   "execution_count": 35,
   "metadata": {},
   "outputs": [],
   "source": [
    "class SimpleCNN(nn.Module):\n",
    "    def __init__(self,input_shape = (3,28,28)):\n",
    "        super(SimpleCNN ,self).__init__()\n",
    "        self.conv1 = nn.Conv2d(in_channels=3 ,out_channels=12,kernel_size=3 , stride=1 ,padding=1)\n",
    "        handle_1 = self.conv1.register_full_backward_pre_hook(fprehook)\n",
    "        self.conv2 = nn.Conv2d(in_channels=12 ,out_channels=32,kernel_size=3 , stride=1 ,padding=1)\n",
    "        handle_2 = self.conv2.register_full_backward_pre_hook(fprehook)\n",
    "        self.conv3 = nn.Conv2d(in_channels=32 ,out_channels=64,kernel_size=3 , stride=1 ,padding=1)\n",
    "        handle_3 = self.conv3.register_full_backward_pre_hook(fprehook)\n",
    "        self.conv4 = nn.Conv2d(in_channels=64 ,out_channels=128,kernel_size=3 , stride=1 ,padding=1)\n",
    "        handle_4 = self.conv4.register_full_backward_pre_hook(fprehook)\n",
    "        \n",
    "        # Flattening the  conv layer \n",
    "        self.flatten = nn.Flatten()\n",
    "        self.fc1 = nn.Linear(self._get_flatten_layer(input_shape),128)\n",
    "        self.fc2 = nn.Linear(128,10)\n",
    "\n",
    "\n",
    "    \n",
    "    def _get_flatten_layer(self,shape):\n",
    "        # print(\"SHAPE\" ,shape)\n",
    "        dummy_input = torch.rand(1 *shape)\n",
    "        x = self.conv1(dummy_input)\n",
    "        # print(\"SHAPE OF CONV1\",x.shape)\n",
    "        x = F.relu(x)\n",
    "        x = self.conv2(x)\n",
    "        # print(\"SHAPE OF CONV2\",x.shape)\n",
    "        x = F.relu(x)\n",
    "        x = self.conv3(x)\n",
    "        # print(\"SHAPE OF CONV3\",x.shape)\n",
    "        x = F.relu(x)\n",
    "        x = self.conv4(x)\n",
    "        # print(\"SHAPE OF CONV4\",x.shape)\n",
    "        x = F.relu(x)\n",
    "        n_size = self.flatten(x).shape[1]\n",
    "        print(\"N_SIZE\",n_size)\n",
    "        return n_size\n"
   ]
  },
  {
   "cell_type": "code",
   "execution_count": 36,
   "metadata": {},
   "outputs": [
    {
     "name": "stdout",
     "output_type": "stream",
     "text": [
      "SHAPE (3, 28, 28)\n",
      "SHAPE OF CONV1 torch.Size([12, 28, 28])\n",
      "SHAPE OF CONV2 torch.Size([32, 28, 28])\n",
      "SHAPE OF CONV3 torch.Size([64, 28, 28])\n",
      "SHAPE OF CONV4 torch.Size([128, 28, 28])\n",
      "N_SIZE 784\n",
      "SimpleCNN(\n",
      "  (conv1): Conv2d(3, 12, kernel_size=(3, 3), stride=(1, 1), padding=(1, 1))\n",
      "  (conv2): Conv2d(12, 32, kernel_size=(3, 3), stride=(1, 1), padding=(1, 1))\n",
      "  (conv3): Conv2d(32, 64, kernel_size=(3, 3), stride=(1, 1), padding=(1, 1))\n",
      "  (conv4): Conv2d(64, 128, kernel_size=(3, 3), stride=(1, 1), padding=(1, 1))\n",
      "  (flatten): Flatten(start_dim=1, end_dim=-1)\n",
      "  (fc1): Linear(in_features=784, out_features=128, bias=True)\n",
      "  (fc2): Linear(in_features=128, out_features=10, bias=True)\n",
      ")\n"
     ]
    }
   ],
   "source": [
    "model = SimpleCNN(input_shape=(3,28,28))\n",
    "print(model)"
   ]
  }
 ],
 "metadata": {
  "kernelspec": {
   "display_name": "stark",
   "language": "python",
   "name": "python3"
  },
  "language_info": {
   "codemirror_mode": {
    "name": "ipython",
    "version": 3
   },
   "file_extension": ".py",
   "mimetype": "text/x-python",
   "name": "python",
   "nbconvert_exporter": "python",
   "pygments_lexer": "ipython3",
   "version": "3.9.19"
  }
 },
 "nbformat": 4,
 "nbformat_minor": 2
}
