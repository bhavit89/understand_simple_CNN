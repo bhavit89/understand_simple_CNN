{
 "cells": [
  {
   "cell_type": "code",
   "execution_count": 140,
   "metadata": {},
   "outputs": [],
   "source": [
    "import numpy  as  np \n",
    "import torch \n",
    "import torch.nn as nn\n",
    "import torch.nn.functional as F"
   ]
  },
  {
   "cell_type": "markdown",
   "metadata": {},
   "source": [
    "##### REMEBER THIS  FROMULA \n",
    "##### OUTPUT SHAPE = [(W-K+2P)/S] + 1\n",
    "#####  W = Input shape\n",
    "#####  K = Kernel size\n",
    "#####  p = Padding size\n",
    "#####  S = Stride size\n"
   ]
  },
  {
   "cell_type": "code",
   "execution_count": 141,
   "metadata": {},
   "outputs": [],
   "source": [
    "def fprehook(self, inputs):\n",
    "    print(f\"layer name: {self}\")\n",
    "    print(f\"input shape: {inputs[0].shape}\")"
   ]
  },
  {
   "cell_type": "code",
   "execution_count": 142,
   "metadata": {},
   "outputs": [],
   "source": [
    "class SimpleCNN(nn.Module):\n",
    "    def __init__(self,input_shape = (3,28,28)):\n",
    "        super(SimpleCNN ,self).__init__()\n",
    "        self.conv1 = nn.Conv2d(in_channels=3 ,out_channels=12,kernel_size=3 , stride=2 ,padding=2)\n",
    "        self.conv2 = nn.Conv2d(in_channels=12 ,out_channels=32,kernel_size=3 , stride=3 ,padding=2)\n",
    "        self.conv3 = nn.Conv2d(in_channels=32 ,out_channels=64,kernel_size=3 , stride=2 ,padding=2)\n",
    "        self.conv4 = nn.Conv2d(in_channels=64 ,out_channels=128,kernel_size=3 , stride=3 ,padding=2)\n",
    "\n",
    "        # Flattening the  conv layer \n",
    "        self.flatten = nn.Flatten()\n",
    "        self.fc1 = nn.Linear(self._get_flatten_layer(input_shape),128)\n",
    "        self.fc2 = nn.Linear(128,10)\n",
    "\n",
    "\n",
    "    # function that  automatically  calculates the  output shape\n",
    "    def _get_flatten_layer(self,shape):\n",
    "        dummy_input = torch.rand(1,*shape) # here 1 mentions batch dimension \n",
    "        x = self.conv1(dummy_input)\n",
    "        x = F.relu(x)\n",
    "        x = self.conv2(x)\n",
    "        x = F.relu(x)\n",
    "        x = self.conv3(x)\n",
    "        x = F.relu(x)\n",
    "        x = self.conv4(x)\n",
    "        x = F.relu(x)\n",
    "        n_size = self.flatten(x).shape[1]\n",
    "        return n_size\n",
    "    \n",
    "\n",
    "    def forward(self,x):\n",
    "        x = self.conv1(x)\n",
    "        x = F.relu(x)\n",
    "        x = self.conv2(x)\n",
    "        x = F.relu(x)\n",
    "        x = self.conv3(x)\n",
    "        x = F.relu(x)\n",
    "        x = self.conv4(x)\n",
    "        x = F.relu(x)\n",
    "        x = self.flatten(x)\n",
    "        x = self.fc1(x)\n",
    "        x = F.relu(x)\n",
    "        x = self.fc2(x)\n",
    "        output = F.log_softmax(x,dim=1)\n",
    "        return output # output spit from feed forward  layer\n",
    "    \n",
    "\n"
   ]
  },
  {
   "cell_type": "code",
   "execution_count": 143,
   "metadata": {},
   "outputs": [],
   "source": [
    "model = SimpleCNN(input_shape=(3,224,224))"
   ]
  },
  {
   "cell_type": "code",
   "execution_count": 144,
   "metadata": {},
   "outputs": [
    {
     "data": {
      "text/plain": [
       "<torch.utils.hooks.RemovableHandle at 0x7089045eb220>"
      ]
     },
     "execution_count": 144,
     "metadata": {},
     "output_type": "execute_result"
    }
   ],
   "source": [
    "model.conv1.register_forward_pre_hook(fprehook)\n",
    "model.conv2.register_forward_pre_hook(fprehook)\n",
    "model.conv3.register_forward_pre_hook(fprehook)\n",
    "model.conv4.register_forward_pre_hook(fprehook)"
   ]
  },
  {
   "cell_type": "code",
   "execution_count": 145,
   "metadata": {},
   "outputs": [
    {
     "name": "stdout",
     "output_type": "stream",
     "text": [
      "layer name: Conv2d(3, 12, kernel_size=(3, 3), stride=(2, 2), padding=(2, 2))\n",
      "input shape: torch.Size([1, 3, 224, 224])\n",
      "layer name: Conv2d(12, 32, kernel_size=(3, 3), stride=(3, 3), padding=(2, 2))\n",
      "input shape: torch.Size([1, 12, 113, 113])\n",
      "layer name: Conv2d(32, 64, kernel_size=(3, 3), stride=(2, 2), padding=(2, 2))\n",
      "input shape: torch.Size([1, 32, 39, 39])\n",
      "layer name: Conv2d(64, 128, kernel_size=(3, 3), stride=(3, 3), padding=(2, 2))\n",
      "input shape: torch.Size([1, 64, 21, 21])\n"
     ]
    }
   ],
   "source": [
    "dummy_inp = torch.rand(1,3, 224, 224)\n",
    "output = model(dummy_inp)"
   ]
  },
  {
   "cell_type": "code",
   "execution_count": 156,
   "metadata": {},
   "outputs": [
    {
     "name": "stdout",
     "output_type": "stream",
     "text": [
      "torch.Size([1, 10])\n",
      "VALUES FROM OUTPUT LAYER (0, tensor([-2.2786, -2.3007, -2.3385, -2.2799, -2.2668, -2.3515, -2.3251, -2.2764,\n",
      "        -2.3787, -2.2382], grad_fn=<UnbindBackward0>)) \n",
      "\n"
     ]
    }
   ],
   "source": [
    "print(output.shape)\n",
    "print(f\"OUTPUT FROM SOFTMAX LAYER\",output)"
   ]
  }
 ],
 "metadata": {
  "kernelspec": {
   "display_name": "stark",
   "language": "python",
   "name": "python3"
  },
  "language_info": {
   "codemirror_mode": {
    "name": "ipython",
    "version": 3
   },
   "file_extension": ".py",
   "mimetype": "text/x-python",
   "name": "python",
   "nbconvert_exporter": "python",
   "pygments_lexer": "ipython3",
   "version": "3.9.19"
  }
 },
 "nbformat": 4,
 "nbformat_minor": 2
}
